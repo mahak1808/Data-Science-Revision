{
 "cells": [
  {
   "cell_type": "markdown",
   "id": "75dbbf30",
   "metadata": {},
   "source": [
    "# Map Function"
   ]
  },
  {
   "cell_type": "code",
   "execution_count": 3,
   "id": "0cf72b17",
   "metadata": {},
   "outputs": [],
   "source": [
    "def even_odd(num):\n",
    "    if num%2==0:\n",
    "        return \"The no. {} is Even\".format(num)\n",
    "    else:\n",
    "        return \"The no. {} is Odd\".format(num)"
   ]
  },
  {
   "cell_type": "code",
   "execution_count": 4,
   "id": "f92d5512",
   "metadata": {},
   "outputs": [
    {
     "data": {
      "text/plain": [
       "'The no. 3 is Odd'"
      ]
     },
     "execution_count": 4,
     "metadata": {},
     "output_type": "execute_result"
    }
   ],
   "source": [
    "even_odd(3)"
   ]
  },
  {
   "cell_type": "markdown",
   "id": "be6f37c9",
   "metadata": {},
   "source": [
    "#### If we want to apply the function to multiple numbers, at once, w/o looping/iterating (since it takes more time), we can use the map function.\n",
    "#### It applies the function for each and every number. It uses the lazy loading technique, i.e, memory hasn't been created for this. So we need to convert it into a list, to display the o/p."
   ]
  },
  {
   "cell_type": "code",
   "execution_count": 5,
   "id": "7250c983",
   "metadata": {},
   "outputs": [
    {
     "data": {
      "text/plain": [
       "['The no. 1 is Odd',\n",
       " 'The no. 2 is Even',\n",
       " 'The no. 3 is Odd',\n",
       " 'The no. 4 is Even',\n",
       " 'The no. 5 is Odd',\n",
       " 'The no. 6 is Even',\n",
       " 'The no. 7 is Odd',\n",
       " 'The no. 8 is Even',\n",
       " 'The no. 9 is Odd',\n",
       " 'The no. 24 is Even',\n",
       " 'The no. 55 is Odd',\n",
       " 'The no. 73 is Odd']"
      ]
     },
     "execution_count": 5,
     "metadata": {},
     "output_type": "execute_result"
    }
   ],
   "source": [
    "lst = [1,2,3,4,5,6,7,8,9,24,55,73]\n",
    "list(map(even_odd,lst))"
   ]
  },
  {
   "cell_type": "markdown",
   "id": "41e8215a",
   "metadata": {},
   "source": [
    "### Syntax -> map(funtion_name,iterable)\n",
    "- iterable = The set of values that we wanna apply that function on. "
   ]
  }
 ],
 "metadata": {
  "kernelspec": {
   "display_name": "Python 3 (ipykernel)",
   "language": "python",
   "name": "python3"
  },
  "language_info": {
   "codemirror_mode": {
    "name": "ipython",
    "version": 3
   },
   "file_extension": ".py",
   "mimetype": "text/x-python",
   "name": "python",
   "nbconvert_exporter": "python",
   "pygments_lexer": "ipython3",
   "version": "3.9.12"
  }
 },
 "nbformat": 4,
 "nbformat_minor": 5
}
