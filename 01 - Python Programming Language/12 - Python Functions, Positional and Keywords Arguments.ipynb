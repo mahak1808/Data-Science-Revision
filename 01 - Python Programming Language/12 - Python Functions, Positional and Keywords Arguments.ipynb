{
 "cells": [
  {
   "cell_type": "markdown",
   "id": "4e22ee5b",
   "metadata": {},
   "source": [
    "# Functions in Python\n",
    "- Why functions : When we wanna write a code that is common in various places, so we write a function for that code and then call it whenever needed.\n",
    "- Function Definition\n",
    "- Positional and Keyword arguments in Functions"
   ]
  },
  {
   "cell_type": "code",
   "execution_count": 1,
   "id": "7ac0a14a",
   "metadata": {},
   "outputs": [
    {
     "name": "stdout",
     "output_type": "stream",
     "text": [
      "The no. is even.\n"
     ]
    }
   ],
   "source": [
    "num = 24\n",
    "\n",
    "if num%2==0:\n",
    "    print(\"The no. is even.\")\n",
    "else:\n",
    "    print(\"The no. is odd.\")"
   ]
  },
  {
   "cell_type": "code",
   "execution_count": 2,
   "id": "24a68e6f",
   "metadata": {},
   "outputs": [],
   "source": [
    "def even_odd(num):\n",
    "    if num%2==0:\n",
    "        print(\"The no. is even.\")\n",
    "    else:\n",
    "        print(\"The no. is odd.\")"
   ]
  },
  {
   "cell_type": "code",
   "execution_count": 3,
   "id": "7063373a",
   "metadata": {},
   "outputs": [
    {
     "name": "stdout",
     "output_type": "stream",
     "text": [
      "The no. is even.\n"
     ]
    }
   ],
   "source": [
    "even_odd(24)"
   ]
  },
  {
   "cell_type": "code",
   "execution_count": 4,
   "id": "fae79d46",
   "metadata": {},
   "outputs": [],
   "source": [
    "# print vs return\n",
    "def hello_world():\n",
    "    print(\"Hello World\")"
   ]
  },
  {
   "cell_type": "code",
   "execution_count": 5,
   "id": "eadb2e18",
   "metadata": {},
   "outputs": [
    {
     "name": "stdout",
     "output_type": "stream",
     "text": [
      "Hello World\n"
     ]
    }
   ],
   "source": [
    "hello_world()"
   ]
  },
  {
   "cell_type": "code",
   "execution_count": 6,
   "id": "ebe4e202",
   "metadata": {},
   "outputs": [
    {
     "name": "stdout",
     "output_type": "stream",
     "text": [
      "Hello World\n"
     ]
    }
   ],
   "source": [
    "val = hello_world()"
   ]
  },
  {
   "cell_type": "code",
   "execution_count": 7,
   "id": "60fa7f78",
   "metadata": {},
   "outputs": [
    {
     "name": "stdout",
     "output_type": "stream",
     "text": [
      "None\n"
     ]
    }
   ],
   "source": [
    "print(val)"
   ]
  },
  {
   "cell_type": "markdown",
   "id": "3315f7ab",
   "metadata": {},
   "source": [
    "This means that this function doesn't return any value, ONLY prints an o/p"
   ]
  },
  {
   "cell_type": "code",
   "execution_count": 8,
   "id": "857da7d6",
   "metadata": {},
   "outputs": [],
   "source": [
    "def hello_world():\n",
    "    return \"Hello World\""
   ]
  },
  {
   "cell_type": "code",
   "execution_count": 9,
   "id": "c4948e7e",
   "metadata": {},
   "outputs": [],
   "source": [
    "val = hello_world()"
   ]
  },
  {
   "cell_type": "code",
   "execution_count": 10,
   "id": "b2ef9c7f",
   "metadata": {},
   "outputs": [
    {
     "name": "stdout",
     "output_type": "stream",
     "text": [
      "Hello World\n"
     ]
    }
   ],
   "source": [
    "print(val)"
   ]
  },
  {
   "cell_type": "markdown",
   "id": "e5e87459",
   "metadata": {},
   "source": [
    "Here, we've returned a value/message from the function."
   ]
  },
  {
   "cell_type": "code",
   "execution_count": 11,
   "id": "b3b0c7f2",
   "metadata": {},
   "outputs": [],
   "source": [
    "def add_num(num1,num2):\n",
    "    return num1+num2"
   ]
  },
  {
   "cell_type": "code",
   "execution_count": 12,
   "id": "9eacf5a1",
   "metadata": {},
   "outputs": [],
   "source": [
    "val = add_num(2,3)"
   ]
  },
  {
   "cell_type": "code",
   "execution_count": 13,
   "id": "eff1176e",
   "metadata": {},
   "outputs": [
    {
     "data": {
      "text/plain": [
       "5"
      ]
     },
     "execution_count": 13,
     "metadata": {},
     "output_type": "execute_result"
    }
   ],
   "source": [
    "val"
   ]
  },
  {
   "cell_type": "code",
   "execution_count": 16,
   "id": "c242716b",
   "metadata": {},
   "outputs": [],
   "source": [
    "def hello(name,age=21):\n",
    "    print(\"My name is {} and age is {}\".format(name,age))"
   ]
  },
  {
   "cell_type": "code",
   "execution_count": 17,
   "id": "019e92f2",
   "metadata": {},
   "outputs": [
    {
     "name": "stdout",
     "output_type": "stream",
     "text": [
      "My name is Mahak and age is 21\n"
     ]
    }
   ],
   "source": [
    "hello(\"Mahak\")"
   ]
  },
  {
   "cell_type": "markdown",
   "id": "bee3344b",
   "metadata": {},
   "source": [
    "Here, since we didn't provide the value for age parameter, it takes up the default value.\n",
    "\n",
    "#### Here, positional argument = name AND keyword argument = (age=21), since here we've written a key value pair."
   ]
  },
  {
   "cell_type": "code",
   "execution_count": 18,
   "id": "80b89465",
   "metadata": {},
   "outputs": [],
   "source": [
    "def hello(*args,**kwargs):\n",
    "    print(args)\n",
    "    print(kwargs)\n",
    "\n",
    "# *args = positional argument\n",
    "# **kwargs = keyword argument"
   ]
  },
  {
   "cell_type": "code",
   "execution_count": 19,
   "id": "5786e245",
   "metadata": {},
   "outputs": [
    {
     "name": "stdout",
     "output_type": "stream",
     "text": [
      "('Mahak', 'Kaur')\n",
      "{'age': 21, 'dob': 2002}\n"
     ]
    }
   ],
   "source": [
    "hello(\"Mahak\",\"Kaur\",age=21,dob=2002)"
   ]
  },
  {
   "cell_type": "code",
   "execution_count": 20,
   "id": "4a8ba03b",
   "metadata": {},
   "outputs": [],
   "source": [
    "lst = ['Mahak','Kaur']\n",
    "dict_args = {'age':21,'dob':2002}"
   ]
  },
  {
   "cell_type": "code",
   "execution_count": 21,
   "id": "31896339",
   "metadata": {},
   "outputs": [
    {
     "name": "stdout",
     "output_type": "stream",
     "text": [
      "(['Mahak', 'Kaur'], {'age': 21, 'dob': 2002})\n",
      "{}\n"
     ]
    }
   ],
   "source": [
    "hello(lst,dict_args)"
   ]
  },
  {
   "cell_type": "markdown",
   "id": "5175b7a4",
   "metadata": {},
   "source": [
    "This is wrong,so we've to specify whichever input is args/kwargs."
   ]
  },
  {
   "cell_type": "code",
   "execution_count": 22,
   "id": "d627a284",
   "metadata": {},
   "outputs": [
    {
     "name": "stdout",
     "output_type": "stream",
     "text": [
      "('Mahak', 'Kaur')\n",
      "{'age': 21, 'dob': 2002}\n"
     ]
    }
   ],
   "source": [
    "hello(*lst,**dict_args)"
   ]
  },
  {
   "cell_type": "code",
   "execution_count": 1,
   "id": "5b3ef9c3",
   "metadata": {},
   "outputs": [],
   "source": [
    "lst = [1,2,3,4,5,6,7]\n",
    "\n",
    "def even_odd_sum(lst):\n",
    "    even_sum=0\n",
    "    odd_sum=0\n",
    "    \n",
    "    for i in lst:\n",
    "        if(i%2==0):\n",
    "            even_sum+=i\n",
    "        else:\n",
    "            odd_sum+=i\n",
    "    return even_sum,odd_sum"
   ]
  },
  {
   "cell_type": "code",
   "execution_count": 2,
   "id": "9dcddd83",
   "metadata": {},
   "outputs": [
    {
     "data": {
      "text/plain": [
       "(12, 16)"
      ]
     },
     "execution_count": 2,
     "metadata": {},
     "output_type": "execute_result"
    }
   ],
   "source": [
    "even_odd_sum(lst)"
   ]
  }
 ],
 "metadata": {
  "kernelspec": {
   "display_name": "Python 3 (ipykernel)",
   "language": "python",
   "name": "python3"
  },
  "language_info": {
   "codemirror_mode": {
    "name": "ipython",
    "version": 3
   },
   "file_extension": ".py",
   "mimetype": "text/x-python",
   "name": "python",
   "nbconvert_exporter": "python",
   "pygments_lexer": "ipython3",
   "version": "3.9.12"
  }
 },
 "nbformat": 4,
 "nbformat_minor": 5
}
