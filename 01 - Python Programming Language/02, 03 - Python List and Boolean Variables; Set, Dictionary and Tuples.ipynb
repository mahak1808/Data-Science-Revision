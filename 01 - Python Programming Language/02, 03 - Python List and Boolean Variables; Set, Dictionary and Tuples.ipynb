{
 "cells": [
  {
   "cell_type": "markdown",
   "id": "b436067d",
   "metadata": {},
   "source": [
    "# Python List and Boolean Variables\n",
    "- Boolean\n",
    "- Boolean and Logical operators\n",
    "- Lists\n",
    "- Comparison Operators\n",
    "- Dictionaries\n",
    "- Tuples\n",
    "- Sets"
   ]
  },
  {
   "cell_type": "markdown",
   "id": "fe5eff6f",
   "metadata": {},
   "source": [
    "## Boolean Variables\n",
    "- These are 2 constant objects -> True and False.\n",
    "- Used to represent truth values.\n",
    "- Numerically, they're 1 and 0.\n",
    "- The built-in function bool() can be used to assign/cast any value to Boolean, if the value can be interpreted as a true value. They are written as false and true respectively."
   ]
  },
  {
   "cell_type": "code",
   "execution_count": 1,
   "id": "19cffa34",
   "metadata": {},
   "outputs": [
    {
     "data": {
      "text/plain": [
       "False"
      ]
     },
     "execution_count": 1,
     "metadata": {},
     "output_type": "execute_result"
    }
   ],
   "source": [
    "bool() # to create a bool variable"
   ]
  },
  {
   "cell_type": "code",
   "execution_count": 2,
   "id": "03f68c57",
   "metadata": {},
   "outputs": [
    {
     "name": "stdout",
     "output_type": "stream",
     "text": [
      "True False\n"
     ]
    }
   ],
   "source": [
    "print(True,False)"
   ]
  },
  {
   "cell_type": "code",
   "execution_count": 4,
   "id": "33a50a33",
   "metadata": {},
   "outputs": [
    {
     "data": {
      "text/plain": [
       "bool"
      ]
     },
     "execution_count": 4,
     "metadata": {},
     "output_type": "execute_result"
    }
   ],
   "source": [
    "type(True)"
   ]
  },
  {
   "cell_type": "code",
   "execution_count": 5,
   "id": "cc715c3c",
   "metadata": {},
   "outputs": [],
   "source": [
    "my_str = \"Mahak Kaur\""
   ]
  },
  {
   "cell_type": "code",
   "execution_count": 7,
   "id": "af827f5e",
   "metadata": {},
   "outputs": [],
   "source": [
    "#my_str. # press Tab to know all in-built functions\n",
    "#Press shift+Tab to read description of a function"
   ]
  },
  {
   "cell_type": "code",
   "execution_count": 8,
   "id": "8d1b6a79",
   "metadata": {
    "scrolled": false
   },
   "outputs": [
    {
     "name": "stdout",
     "output_type": "stream",
     "text": [
      "False\n",
      "False\n",
      "False\n",
      "True\n",
      "False\n",
      "False\n",
      "False\n",
      "False\n",
      "True\n"
     ]
    }
   ],
   "source": [
    "print(my_str.isalnum()) # checks if string has alphabets and numbers\n",
    "print(my_str.isalpha()) # checks if all chars are alphabets\n",
    "print(my_str.isdigit()) # checks if string contains title digits\n",
    "print(my_str.istitle()) # checks if string contains title words\n",
    "print(my_str.isupper()) # checks if string contains upper case\n",
    "print(my_str.islower()) # checks if string contains lower case\n",
    "print(my_str.isspace()) # checks if string contains spaces\n",
    "print(my_str.endswith('d')) # tests if string ends with a d\n",
    "print(my_str.startswith('M')) # tests if string starts with an M"
   ]
  },
  {
   "cell_type": "markdown",
   "id": "edd648dd",
   "metadata": {},
   "source": [
    "## Boolean and Logical operators"
   ]
  },
  {
   "cell_type": "code",
   "execution_count": 9,
   "id": "abc78c96",
   "metadata": {},
   "outputs": [
    {
     "data": {
      "text/plain": [
       "True"
      ]
     },
     "execution_count": 9,
     "metadata": {},
     "output_type": "execute_result"
    }
   ],
   "source": [
    "True and True"
   ]
  },
  {
   "cell_type": "code",
   "execution_count": 10,
   "id": "ab591a9e",
   "metadata": {},
   "outputs": [
    {
     "data": {
      "text/plain": [
       "False"
      ]
     },
     "execution_count": 10,
     "metadata": {},
     "output_type": "execute_result"
    }
   ],
   "source": [
    "False and True"
   ]
  },
  {
   "cell_type": "code",
   "execution_count": 11,
   "id": "d79a5de2",
   "metadata": {},
   "outputs": [
    {
     "data": {
      "text/plain": [
       "True"
      ]
     },
     "execution_count": 11,
     "metadata": {},
     "output_type": "execute_result"
    }
   ],
   "source": [
    "False or True"
   ]
  },
  {
   "cell_type": "code",
   "execution_count": 12,
   "id": "12fc470a",
   "metadata": {},
   "outputs": [
    {
     "data": {
      "text/plain": [
       "0"
      ]
     },
     "execution_count": 12,
     "metadata": {},
     "output_type": "execute_result"
    }
   ],
   "source": [
    "1 and 0"
   ]
  },
  {
   "cell_type": "code",
   "execution_count": 13,
   "id": "69ff7831",
   "metadata": {},
   "outputs": [
    {
     "data": {
      "text/plain": [
       "1"
      ]
     },
     "execution_count": 13,
     "metadata": {},
     "output_type": "execute_result"
    }
   ],
   "source": [
    "1 or 0"
   ]
  },
  {
   "cell_type": "code",
   "execution_count": 14,
   "id": "1d7e195f",
   "metadata": {},
   "outputs": [],
   "source": [
    "str1 = 'Hello World'\n",
    "myStr = \"Mahak\""
   ]
  },
  {
   "cell_type": "code",
   "execution_count": 21,
   "id": "f71d10fb",
   "metadata": {},
   "outputs": [
    {
     "data": {
      "text/plain": [
       "True"
      ]
     },
     "execution_count": 21,
     "metadata": {},
     "output_type": "execute_result"
    }
   ],
   "source": [
    "myStr.isalpha() or str1.isnumeric()"
   ]
  },
  {
   "cell_type": "markdown",
   "id": "59d9f4ca",
   "metadata": {},
   "source": [
    "## Lists\n",
    "- A list is a data structure in python that is mutable, or changeable, ordered sequence of elements.\n",
    "- Each element or value that is inside of a list is called an item.\n",
    "- Just as strings are defined as characters between quotes, lists are defined by having values between square brackets [ ]."
   ]
  },
  {
   "cell_type": "code",
   "execution_count": 22,
   "id": "2e66ba74",
   "metadata": {},
   "outputs": [
    {
     "data": {
      "text/plain": [
       "list"
      ]
     },
     "execution_count": 22,
     "metadata": {},
     "output_type": "execute_result"
    }
   ],
   "source": [
    "type([])"
   ]
  },
  {
   "cell_type": "code",
   "execution_count": 26,
   "id": "49a5fa31",
   "metadata": {},
   "outputs": [],
   "source": [
    "lst = []"
   ]
  },
  {
   "cell_type": "code",
   "execution_count": 27,
   "id": "9f573c5a",
   "metadata": {},
   "outputs": [
    {
     "data": {
      "text/plain": [
       "list"
      ]
     },
     "execution_count": 27,
     "metadata": {},
     "output_type": "execute_result"
    }
   ],
   "source": [
    "type(lst)"
   ]
  },
  {
   "cell_type": "code",
   "execution_count": 30,
   "id": "c071013d",
   "metadata": {},
   "outputs": [],
   "source": [
    "lst1 = ['Hi','Hello','Hola',100]"
   ]
  },
  {
   "cell_type": "code",
   "execution_count": 31,
   "id": "716f668c",
   "metadata": {},
   "outputs": [
    {
     "data": {
      "text/plain": [
       "list"
      ]
     },
     "execution_count": 31,
     "metadata": {},
     "output_type": "execute_result"
    }
   ],
   "source": [
    "type(lst1)"
   ]
  },
  {
   "cell_type": "code",
   "execution_count": 32,
   "id": "f3f7fa24",
   "metadata": {},
   "outputs": [
    {
     "data": {
      "text/plain": [
       "4"
      ]
     },
     "execution_count": 32,
     "metadata": {},
     "output_type": "execute_result"
    }
   ],
   "source": [
    "len(lst1)"
   ]
  },
  {
   "cell_type": "markdown",
   "id": "2622dbf7",
   "metadata": {},
   "source": [
    "### Append\n",
    ".append is used to add elements in the list"
   ]
  },
  {
   "cell_type": "code",
   "execution_count": 33,
   "id": "72c1a9da",
   "metadata": {},
   "outputs": [],
   "source": [
    "lst1.append(200)"
   ]
  },
  {
   "cell_type": "code",
   "execution_count": 41,
   "id": "59d19c61",
   "metadata": {},
   "outputs": [],
   "source": [
    "lst1.append([400,'Bonjour'])"
   ]
  },
  {
   "cell_type": "code",
   "execution_count": 42,
   "id": "97d4ab66",
   "metadata": {},
   "outputs": [
    {
     "data": {
      "text/plain": [
       "['Hi', 'Hello', 'Hola', 100, 200, [400, 'Bonjour']]"
      ]
     },
     "execution_count": 42,
     "metadata": {},
     "output_type": "execute_result"
    }
   ],
   "source": [
    "lst1"
   ]
  },
  {
   "cell_type": "code",
   "execution_count": 35,
   "id": "a68423eb",
   "metadata": {},
   "outputs": [
    {
     "data": {
      "text/plain": [
       "'Hi'"
      ]
     },
     "execution_count": 35,
     "metadata": {},
     "output_type": "execute_result"
    }
   ],
   "source": [
    "# indexing in list\n",
    "lst1[0]"
   ]
  },
  {
   "cell_type": "code",
   "execution_count": 43,
   "id": "ed8712bb",
   "metadata": {},
   "outputs": [
    {
     "data": {
      "text/plain": [
       "['Hi', 'Hello', 'Hola', 100, 200, [400, 'Bonjour']]"
      ]
     },
     "execution_count": 43,
     "metadata": {},
     "output_type": "execute_result"
    }
   ],
   "source": [
    "# slicing the list\n",
    "lst1[:]"
   ]
  },
  {
   "cell_type": "code",
   "execution_count": 37,
   "id": "0e5448c2",
   "metadata": {},
   "outputs": [
    {
     "data": {
      "text/plain": [
       "['Hi', 'Hello']"
      ]
     },
     "execution_count": 37,
     "metadata": {},
     "output_type": "execute_result"
    }
   ],
   "source": [
    "lst1[:2]"
   ]
  },
  {
   "cell_type": "code",
   "execution_count": 44,
   "id": "1204e067",
   "metadata": {},
   "outputs": [
    {
     "data": {
      "text/plain": [
       "['Hola', 100, 200, [400, 'Bonjour']]"
      ]
     },
     "execution_count": 44,
     "metadata": {},
     "output_type": "execute_result"
    }
   ],
   "source": [
    "lst1[2:]"
   ]
  },
  {
   "cell_type": "code",
   "execution_count": 45,
   "id": "aab8cf42",
   "metadata": {},
   "outputs": [
    {
     "data": {
      "text/plain": [
       "['Hello', 'Hola', 100]"
      ]
     },
     "execution_count": 45,
     "metadata": {},
     "output_type": "execute_result"
    }
   ],
   "source": [
    "lst1[1:4]"
   ]
  },
  {
   "cell_type": "markdown",
   "id": "f9b61912",
   "metadata": {},
   "source": [
    "### Insert\n",
    "insert at a specific index"
   ]
  },
  {
   "cell_type": "code",
   "execution_count": 46,
   "id": "d7ce6102",
   "metadata": {},
   "outputs": [],
   "source": [
    "lst1.insert(2,\"Annyeong\")"
   ]
  },
  {
   "cell_type": "code",
   "execution_count": 47,
   "id": "bf5e8cf0",
   "metadata": {},
   "outputs": [
    {
     "data": {
      "text/plain": [
       "['Hi', 'Hello', 'Annyeong', 'Hola', 100, 200, [400, 'Bonjour']]"
      ]
     },
     "execution_count": 47,
     "metadata": {},
     "output_type": "execute_result"
    }
   ],
   "source": [
    "lst1"
   ]
  },
  {
   "cell_type": "markdown",
   "id": "a49a1a0a",
   "metadata": {},
   "source": [
    "### Extend\n",
    "adds elements as separate items"
   ]
  },
  {
   "cell_type": "code",
   "execution_count": 48,
   "id": "b08411f6",
   "metadata": {},
   "outputs": [],
   "source": [
    "lst2 = [1,2,3,4]"
   ]
  },
  {
   "cell_type": "code",
   "execution_count": 49,
   "id": "84eafa59",
   "metadata": {},
   "outputs": [],
   "source": [
    "lst2.append([5,6])"
   ]
  },
  {
   "cell_type": "code",
   "execution_count": 50,
   "id": "c3854439",
   "metadata": {},
   "outputs": [],
   "source": [
    "lst2.extend([7,8])"
   ]
  },
  {
   "cell_type": "code",
   "execution_count": 51,
   "id": "0c450f93",
   "metadata": {},
   "outputs": [
    {
     "data": {
      "text/plain": [
       "[1, 2, 3, 4, [5, 6], 7, 8]"
      ]
     },
     "execution_count": 51,
     "metadata": {},
     "output_type": "execute_result"
    }
   ],
   "source": [
    "lst2"
   ]
  },
  {
   "cell_type": "markdown",
   "id": "77536f7e",
   "metadata": {},
   "source": [
    "### Various operations to perform on Lists"
   ]
  },
  {
   "cell_type": "code",
   "execution_count": 53,
   "id": "32433947",
   "metadata": {},
   "outputs": [],
   "source": [
    "lst3 = [1,2,3,4,5,6]"
   ]
  },
  {
   "cell_type": "code",
   "execution_count": 54,
   "id": "5941dc09",
   "metadata": {},
   "outputs": [
    {
     "data": {
      "text/plain": [
       "21"
      ]
     },
     "execution_count": 54,
     "metadata": {},
     "output_type": "execute_result"
    }
   ],
   "source": [
    "sum(lst3)"
   ]
  },
  {
   "cell_type": "markdown",
   "id": "4dcd2aca",
   "metadata": {},
   "source": [
    "### Pop( )"
   ]
  },
  {
   "cell_type": "code",
   "execution_count": 55,
   "id": "f62652f6",
   "metadata": {},
   "outputs": [
    {
     "data": {
      "text/plain": [
       "['Hi', 'Hello', 'Annyeong', 'Hola', 100, 200, [400, 'Bonjour']]"
      ]
     },
     "execution_count": 55,
     "metadata": {},
     "output_type": "execute_result"
    }
   ],
   "source": [
    "lst1"
   ]
  },
  {
   "cell_type": "code",
   "execution_count": 56,
   "id": "991913a7",
   "metadata": {},
   "outputs": [
    {
     "data": {
      "text/plain": [
       "[400, 'Bonjour']"
      ]
     },
     "execution_count": 56,
     "metadata": {},
     "output_type": "execute_result"
    }
   ],
   "source": [
    "lst1.pop()"
   ]
  },
  {
   "cell_type": "code",
   "execution_count": 57,
   "id": "1f3cad65",
   "metadata": {},
   "outputs": [
    {
     "data": {
      "text/plain": [
       "['Hi', 'Hello', 'Annyeong', 'Hola', 100, 200]"
      ]
     },
     "execution_count": 57,
     "metadata": {},
     "output_type": "execute_result"
    }
   ],
   "source": [
    "lst1"
   ]
  },
  {
   "cell_type": "code",
   "execution_count": 58,
   "id": "68035965",
   "metadata": {},
   "outputs": [
    {
     "data": {
      "text/plain": [
       "100"
      ]
     },
     "execution_count": 58,
     "metadata": {},
     "output_type": "execute_result"
    }
   ],
   "source": [
    "lst1.pop(4)"
   ]
  },
  {
   "cell_type": "code",
   "execution_count": 59,
   "id": "15c0e248",
   "metadata": {},
   "outputs": [
    {
     "data": {
      "text/plain": [
       "['Hi', 'Hello', 'Annyeong', 'Hola', 200]"
      ]
     },
     "execution_count": 59,
     "metadata": {},
     "output_type": "execute_result"
    }
   ],
   "source": [
    "lst1"
   ]
  },
  {
   "cell_type": "markdown",
   "id": "f61be8ae",
   "metadata": {},
   "source": [
    "### count( ) -> Calculates total occurence of given element in a List"
   ]
  },
  {
   "cell_type": "code",
   "execution_count": 60,
   "id": "5574fb5c",
   "metadata": {},
   "outputs": [],
   "source": [
    "lst = [1,1,2,3,1,2,4]"
   ]
  },
  {
   "cell_type": "code",
   "execution_count": 61,
   "id": "478e14ad",
   "metadata": {},
   "outputs": [
    {
     "data": {
      "text/plain": [
       "3"
      ]
     },
     "execution_count": 61,
     "metadata": {},
     "output_type": "execute_result"
    }
   ],
   "source": [
    "lst.count(1)"
   ]
  },
  {
   "cell_type": "code",
   "execution_count": 62,
   "id": "574d129f",
   "metadata": {},
   "outputs": [
    {
     "data": {
      "text/plain": [
       "7"
      ]
     },
     "execution_count": 62,
     "metadata": {},
     "output_type": "execute_result"
    }
   ],
   "source": [
    "len(lst)"
   ]
  },
  {
   "cell_type": "markdown",
   "id": "dc9307be",
   "metadata": {},
   "source": [
    "### index( ) -> returns index of 1st occurence. Start and end index are not necessary parameters."
   ]
  },
  {
   "cell_type": "code",
   "execution_count": 63,
   "id": "7b06cd4b",
   "metadata": {},
   "outputs": [
    {
     "data": {
      "text/plain": [
       "[1, 1, 2, 3, 1, 2, 4]"
      ]
     },
     "execution_count": 63,
     "metadata": {},
     "output_type": "execute_result"
    }
   ],
   "source": [
    "lst"
   ]
  },
  {
   "cell_type": "code",
   "execution_count": 64,
   "id": "5dde9fff",
   "metadata": {},
   "outputs": [
    {
     "data": {
      "text/plain": [
       "0"
      ]
     },
     "execution_count": 64,
     "metadata": {},
     "output_type": "execute_result"
    }
   ],
   "source": [
    "lst.index(1)"
   ]
  },
  {
   "cell_type": "code",
   "execution_count": 69,
   "id": "983fb039",
   "metadata": {},
   "outputs": [
    {
     "data": {
      "text/plain": [
       "1"
      ]
     },
     "execution_count": 69,
     "metadata": {},
     "output_type": "execute_result"
    }
   ],
   "source": [
    "lst.index(1,1,7)"
   ]
  },
  {
   "cell_type": "code",
   "execution_count": 65,
   "id": "2de478c9",
   "metadata": {},
   "outputs": [
    {
     "data": {
      "text/plain": [
       "2"
      ]
     },
     "execution_count": 65,
     "metadata": {},
     "output_type": "execute_result"
    }
   ],
   "source": [
    "lst.index(2)"
   ]
  },
  {
   "cell_type": "code",
   "execution_count": 66,
   "id": "2f36508a",
   "metadata": {},
   "outputs": [
    {
     "data": {
      "text/plain": [
       "1"
      ]
     },
     "execution_count": 66,
     "metadata": {},
     "output_type": "execute_result"
    }
   ],
   "source": [
    "min(lst)"
   ]
  },
  {
   "cell_type": "code",
   "execution_count": 67,
   "id": "6abf6ea7",
   "metadata": {},
   "outputs": [
    {
     "data": {
      "text/plain": [
       "4"
      ]
     },
     "execution_count": 67,
     "metadata": {},
     "output_type": "execute_result"
    }
   ],
   "source": [
    "max(lst)"
   ]
  },
  {
   "cell_type": "code",
   "execution_count": 70,
   "id": "a5f5f3ac",
   "metadata": {},
   "outputs": [
    {
     "data": {
      "text/plain": [
       "[1, 1, 2, 3, 1, 2, 4]"
      ]
     },
     "execution_count": 70,
     "metadata": {},
     "output_type": "execute_result"
    }
   ],
   "source": [
    "lst"
   ]
  },
  {
   "cell_type": "code",
   "execution_count": 71,
   "id": "782a2053",
   "metadata": {},
   "outputs": [
    {
     "data": {
      "text/plain": [
       "[1, 1, 2, 3, 1, 2, 4, 1, 1, 2, 3, 1, 2, 4]"
      ]
     },
     "execution_count": 71,
     "metadata": {},
     "output_type": "execute_result"
    }
   ],
   "source": [
    "lst*2 #appends list the given no. of times"
   ]
  },
  {
   "cell_type": "markdown",
   "id": "771c7236",
   "metadata": {},
   "source": [
    "## Sets\n",
    "- A set is an unordered collection data type that is iterable, mutable, and has no duplicate elements.\n",
    "- Python's set class represents the mathematical notion of a set.\n",
    "- This is based on a data structure known as hash table."
   ]
  },
  {
   "cell_type": "code",
   "execution_count": 1,
   "id": "8a77a922",
   "metadata": {},
   "outputs": [
    {
     "name": "stdout",
     "output_type": "stream",
     "text": [
      "set()\n",
      "<class 'set'>\n"
     ]
    }
   ],
   "source": [
    "#Defining an empty set\n",
    "\n",
    "set_var = set()\n",
    "print(set_var)\n",
    "print(type(set_var))"
   ]
  },
  {
   "cell_type": "code",
   "execution_count": 2,
   "id": "c36e7060",
   "metadata": {},
   "outputs": [
    {
     "name": "stdout",
     "output_type": "stream",
     "text": [
      "{1, 2, 3, 4}\n"
     ]
    }
   ],
   "source": [
    "set_var = {1,2,3,4,3}\n",
    "print(set_var)"
   ]
  },
  {
   "cell_type": "code",
   "execution_count": 3,
   "id": "caa50f4c",
   "metadata": {},
   "outputs": [
    {
     "name": "stdout",
     "output_type": "stream",
     "text": [
      "{'Iron Man', 'Spiderman', 'Avengers'}\n",
      "<class 'set'>\n"
     ]
    }
   ],
   "source": [
    "set_var = {\"Avengers\",\"Iron Man\",\"Spiderman\"}\n",
    "print(set_var)\n",
    "print(type(set_var))"
   ]
  },
  {
   "cell_type": "markdown",
   "id": "f248826f",
   "metadata": {},
   "source": [
    "### In-built functions in sets"
   ]
  },
  {
   "cell_type": "code",
   "execution_count": 4,
   "id": "114157ed",
   "metadata": {},
   "outputs": [],
   "source": [
    "set_var.add(\"Hulk\")"
   ]
  },
  {
   "cell_type": "code",
   "execution_count": 5,
   "id": "d6d5ca5a",
   "metadata": {},
   "outputs": [
    {
     "name": "stdout",
     "output_type": "stream",
     "text": [
      "{'Iron Man', 'Spiderman', 'Hulk', 'Avengers'}\n"
     ]
    }
   ],
   "source": [
    "print(set_var)"
   ]
  },
  {
   "cell_type": "code",
   "execution_count": 8,
   "id": "07487728",
   "metadata": {},
   "outputs": [
    {
     "ename": "TypeError",
     "evalue": "'set' object is not subscriptable",
     "output_type": "error",
     "traceback": [
      "\u001b[0;31m---------------------------------------------------------------------------\u001b[0m",
      "\u001b[0;31mTypeError\u001b[0m                                 Traceback (most recent call last)",
      "Input \u001b[0;32mIn [8]\u001b[0m, in \u001b[0;36m<cell line: 2>\u001b[0;34m()\u001b[0m\n\u001b[1;32m      1\u001b[0m \u001b[38;5;66;03m# Set doesn't support indexing\u001b[39;00m\n\u001b[0;32m----> 2\u001b[0m \u001b[38;5;28mprint\u001b[39m(\u001b[43mset_var\u001b[49m\u001b[43m[\u001b[49m\u001b[38;5;241;43m1\u001b[39;49m\u001b[43m]\u001b[49m)\n\u001b[1;32m      3\u001b[0m \u001b[38;5;28mprint\u001b[39m(set_var[\u001b[38;5;124m\"\u001b[39m\u001b[38;5;124mIron Man\u001b[39m\u001b[38;5;124m\"\u001b[39m])\n",
      "\u001b[0;31mTypeError\u001b[0m: 'set' object is not subscriptable"
     ]
    }
   ],
   "source": [
    "# Set doesn't support indexing\n",
    "print(set_var[1])\n",
    "print(set_var[\"Iron Man\"])"
   ]
  },
  {
   "cell_type": "code",
   "execution_count": 9,
   "id": "8856b232",
   "metadata": {},
   "outputs": [],
   "source": [
    "set1 = {\"Avengers\",\"Iron Man\",\"Spiderman\"}\n",
    "set2 = {\"Avengers\",\"Iron Man\",\"Spiderman\",\"Hulk\"}"
   ]
  },
  {
   "cell_type": "code",
   "execution_count": 10,
   "id": "df20df1e",
   "metadata": {},
   "outputs": [
    {
     "data": {
      "text/plain": [
       "{'Hulk'}"
      ]
     },
     "execution_count": 10,
     "metadata": {},
     "output_type": "execute_result"
    }
   ],
   "source": [
    "## Difference\n",
    "set2.difference(set1)"
   ]
  },
  {
   "cell_type": "code",
   "execution_count": 11,
   "id": "d3864f57",
   "metadata": {},
   "outputs": [],
   "source": [
    "## Difference update -> Removes all common elements from set2 and only non-common value remains\n",
    "set2.difference_update(set1)"
   ]
  },
  {
   "cell_type": "code",
   "execution_count": 12,
   "id": "19930bec",
   "metadata": {},
   "outputs": [
    {
     "name": "stdout",
     "output_type": "stream",
     "text": [
      "{'Hulk'}\n"
     ]
    }
   ],
   "source": [
    "print(set2)"
   ]
  },
  {
   "cell_type": "code",
   "execution_count": 13,
   "id": "799c14a0",
   "metadata": {},
   "outputs": [
    {
     "data": {
      "text/plain": [
       "{'Avengers', 'Iron Man', 'Spiderman'}"
      ]
     },
     "execution_count": 13,
     "metadata": {},
     "output_type": "execute_result"
    }
   ],
   "source": [
    "## Intersection\n",
    "set1 = {\"Avengers\",\"Iron Man\",\"Spiderman\"}\n",
    "set2 = {\"Avengers\",\"Iron Man\",\"Spiderman\",\"Hulk\"}\n",
    "set1.intersection(set2)"
   ]
  },
  {
   "cell_type": "code",
   "execution_count": 17,
   "id": "d9cd38d4",
   "metadata": {},
   "outputs": [],
   "source": [
    "set2.intersection_update(set1)"
   ]
  },
  {
   "cell_type": "code",
   "execution_count": 18,
   "id": "70a3f025",
   "metadata": {},
   "outputs": [
    {
     "data": {
      "text/plain": [
       "{'Avengers', 'Iron Man', 'Spiderman'}"
      ]
     },
     "execution_count": 18,
     "metadata": {},
     "output_type": "execute_result"
    }
   ],
   "source": [
    "set1"
   ]
  },
  {
   "cell_type": "code",
   "execution_count": 19,
   "id": "ca952ae6",
   "metadata": {},
   "outputs": [
    {
     "data": {
      "text/plain": [
       "{'Avengers', 'Iron Man', 'Spiderman'}"
      ]
     },
     "execution_count": 19,
     "metadata": {},
     "output_type": "execute_result"
    }
   ],
   "source": [
    "set2"
   ]
  },
  {
   "cell_type": "markdown",
   "id": "cd32fbe9",
   "metadata": {},
   "source": [
    "## Dictionaries\n",
    "- A dictionary is a collection which is unordered, changeable and indexed.\n",
    "- In Python, dictionaries are written with curly brackets, and they have keys and values."
   ]
  },
  {
   "cell_type": "code",
   "execution_count": 20,
   "id": "21dfb196",
   "metadata": {},
   "outputs": [],
   "source": [
    "dic = {}"
   ]
  },
  {
   "cell_type": "code",
   "execution_count": 21,
   "id": "94acfac4",
   "metadata": {},
   "outputs": [
    {
     "data": {
      "text/plain": [
       "dict"
      ]
     },
     "execution_count": 21,
     "metadata": {},
     "output_type": "execute_result"
    }
   ],
   "source": [
    "type(dic)"
   ]
  },
  {
   "cell_type": "code",
   "execution_count": 23,
   "id": "75f4c0ac",
   "metadata": {},
   "outputs": [
    {
     "data": {
      "text/plain": [
       "set"
      ]
     },
     "execution_count": 23,
     "metadata": {},
     "output_type": "execute_result"
    }
   ],
   "source": [
    "dic = {1,2,3,4,5}\n",
    "type(dic)"
   ]
  },
  {
   "cell_type": "code",
   "execution_count": 24,
   "id": "9b6fcebf",
   "metadata": {},
   "outputs": [],
   "source": [
    "## Let's create a Dictionary\n",
    "my_dict = {\"car1\":\"Audi\", \"car2\":\"BMW\", \"car3\":\"Mercedes\"}"
   ]
  },
  {
   "cell_type": "code",
   "execution_count": 25,
   "id": "1c78ef5c",
   "metadata": {},
   "outputs": [
    {
     "data": {
      "text/plain": [
       "dict"
      ]
     },
     "execution_count": 25,
     "metadata": {},
     "output_type": "execute_result"
    }
   ],
   "source": [
    "type(my_dict)"
   ]
  },
  {
   "cell_type": "markdown",
   "id": "59f6cda1",
   "metadata": {},
   "source": [
    "#### Whenever you learn a new data structure, check whether you can retrieve its elements using indexing or not.\n",
    "- In Dictionaries, we can retrieve the data by entering the keys as index."
   ]
  },
  {
   "cell_type": "code",
   "execution_count": 26,
   "id": "66deff26",
   "metadata": {},
   "outputs": [
    {
     "data": {
      "text/plain": [
       "'Audi'"
      ]
     },
     "execution_count": 26,
     "metadata": {},
     "output_type": "execute_result"
    }
   ],
   "source": [
    "my_dict['car1']"
   ]
  },
  {
   "cell_type": "code",
   "execution_count": 27,
   "id": "14ea289e",
   "metadata": {},
   "outputs": [
    {
     "name": "stdout",
     "output_type": "stream",
     "text": [
      "Audi\n",
      "BMW\n",
      "Mercedes\n"
     ]
    }
   ],
   "source": [
    "# We can even loop through the dictionary's values\n",
    "\n",
    "for x in my_dict.values():\n",
    "    print(x)"
   ]
  },
  {
   "cell_type": "code",
   "execution_count": 28,
   "id": "bade640b",
   "metadata": {},
   "outputs": [
    {
     "name": "stdout",
     "output_type": "stream",
     "text": [
      "car1\n",
      "car2\n",
      "car3\n"
     ]
    }
   ],
   "source": [
    "# We can even loop through the dictionary's keys\n",
    "\n",
    "for x in my_dict:\n",
    "    print(x)"
   ]
  },
  {
   "cell_type": "code",
   "execution_count": 29,
   "id": "5e11ec50",
   "metadata": {},
   "outputs": [
    {
     "name": "stdout",
     "output_type": "stream",
     "text": [
      "('car1', 'Audi')\n",
      "('car2', 'BMW')\n",
      "('car3', 'Mercedes')\n"
     ]
    }
   ],
   "source": [
    "# We can also check both keys and values\n",
    "\n",
    "for x in my_dict.items():\n",
    "    print(x)"
   ]
  },
  {
   "cell_type": "code",
   "execution_count": 30,
   "id": "129f905e",
   "metadata": {},
   "outputs": [
    {
     "data": {
      "text/plain": [
       "{'car1': 'Audi', 'car2': 'BMW', 'car3': 'Mercedes', 'car4': 'Porsche'}"
      ]
     },
     "execution_count": 30,
     "metadata": {},
     "output_type": "execute_result"
    }
   ],
   "source": [
    "# Adding new items in Dictionaries\n",
    "my_dict[\"car4\"] = \"Porsche\"\n",
    "my_dict"
   ]
  },
  {
   "cell_type": "code",
   "execution_count": 31,
   "id": "1e9da349",
   "metadata": {},
   "outputs": [],
   "source": [
    "# Replacing values in dictionary\n",
    "my_dict[\"car1\"] = \"Bugatti\""
   ]
  },
  {
   "cell_type": "code",
   "execution_count": 32,
   "id": "9190f7f9",
   "metadata": {},
   "outputs": [
    {
     "data": {
      "text/plain": [
       "{'car1': 'Bugatti', 'car2': 'BMW', 'car3': 'Mercedes', 'car4': 'Porsche'}"
      ]
     },
     "execution_count": 32,
     "metadata": {},
     "output_type": "execute_result"
    }
   ],
   "source": [
    "my_dict"
   ]
  },
  {
   "cell_type": "markdown",
   "id": "015c923f",
   "metadata": {},
   "source": [
    "### Nested Dictionary\n",
    "- Dictionary is used in MongoDB and JSON, where data is stored in key-value pairs, and we must know the dictionary operations to perform operations on that data."
   ]
  },
  {
   "cell_type": "code",
   "execution_count": 33,
   "id": "bccc252f",
   "metadata": {},
   "outputs": [
    {
     "data": {
      "text/plain": [
       "{'car1': {'Mercedes': 1960},\n",
       " 'car2': {'Audi': 1970},\n",
       " 'car3': {'Ambassador': 1980}}"
      ]
     },
     "execution_count": 33,
     "metadata": {},
     "output_type": "execute_result"
    }
   ],
   "source": [
    "car1_model = {\"Mercedes\":1960}\n",
    "car2_model = {\"Audi\":1970}\n",
    "car3_model = {\"Ambassador\":1980}\n",
    "\n",
    "car_type = {\"car1\":car1_model, \"car2\":car2_model, \"car3\":car3_model}\n",
    "car_type"
   ]
  },
  {
   "cell_type": "code",
   "execution_count": 34,
   "id": "07d51983",
   "metadata": {},
   "outputs": [
    {
     "name": "stdout",
     "output_type": "stream",
     "text": [
      "{'car1': {'Mercedes': 1960}, 'car2': {'Audi': 1970}, 'car3': {'Ambassador': 1980}}\n"
     ]
    }
   ],
   "source": [
    "print(car_type)"
   ]
  },
  {
   "cell_type": "code",
   "execution_count": 35,
   "id": "fd3df2c8",
   "metadata": {},
   "outputs": [
    {
     "name": "stdout",
     "output_type": "stream",
     "text": [
      "{'Mercedes': 1960}\n"
     ]
    }
   ],
   "source": [
    "# Accessing the items in a nested dictionary \n",
    "print(car_type['car1'])"
   ]
  },
  {
   "cell_type": "code",
   "execution_count": 36,
   "id": "941c6679",
   "metadata": {},
   "outputs": [
    {
     "name": "stdout",
     "output_type": "stream",
     "text": [
      "1960\n"
     ]
    }
   ],
   "source": [
    "print(car_type['car1']['Mercedes'])"
   ]
  },
  {
   "cell_type": "markdown",
   "id": "4a673ec9",
   "metadata": {},
   "source": [
    "## Tuples\n",
    "- It is an immutable data structure."
   ]
  },
  {
   "cell_type": "code",
   "execution_count": 37,
   "id": "0f8f6aba",
   "metadata": {},
   "outputs": [],
   "source": [
    "## create an empty tuple\n",
    "my_tuple = tuple()"
   ]
  },
  {
   "cell_type": "code",
   "execution_count": 39,
   "id": "63208d05",
   "metadata": {},
   "outputs": [
    {
     "data": {
      "text/plain": [
       "tuple"
      ]
     },
     "execution_count": 39,
     "metadata": {},
     "output_type": "execute_result"
    }
   ],
   "source": [
    "type(my_tuple)"
   ]
  },
  {
   "cell_type": "code",
   "execution_count": 40,
   "id": "4a0a9b9a",
   "metadata": {},
   "outputs": [],
   "source": [
    "my_tuple = ()"
   ]
  },
  {
   "cell_type": "code",
   "execution_count": 41,
   "id": "ff6d103d",
   "metadata": {},
   "outputs": [
    {
     "data": {
      "text/plain": [
       "tuple"
      ]
     },
     "execution_count": 41,
     "metadata": {},
     "output_type": "execute_result"
    }
   ],
   "source": [
    "type(my_tuple)"
   ]
  },
  {
   "cell_type": "code",
   "execution_count": 42,
   "id": "f0c9794b",
   "metadata": {},
   "outputs": [
    {
     "data": {
      "text/plain": [
       "'Mahak'"
      ]
     },
     "execution_count": 42,
     "metadata": {},
     "output_type": "execute_result"
    }
   ],
   "source": [
    "my_tuple = (\"Mahak\", \"Meet\", \"Preet\")\n",
    "my_tuple[0]"
   ]
  },
  {
   "cell_type": "code",
   "execution_count": 43,
   "id": "9ff6ffc1",
   "metadata": {},
   "outputs": [
    {
     "ename": "TypeError",
     "evalue": "'tuple' object does not support item assignment",
     "output_type": "error",
     "traceback": [
      "\u001b[0;31m---------------------------------------------------------------------------\u001b[0m",
      "\u001b[0;31mTypeError\u001b[0m                                 Traceback (most recent call last)",
      "Input \u001b[0;32mIn [43]\u001b[0m, in \u001b[0;36m<cell line: 1>\u001b[0;34m()\u001b[0m\n\u001b[0;32m----> 1\u001b[0m my_tuple[\u001b[38;5;241m0\u001b[39m] \u001b[38;5;241m=\u001b[39m \u001b[38;5;124m\"\u001b[39m\u001b[38;5;124mSupreet\u001b[39m\u001b[38;5;124m\"\u001b[39m\n",
      "\u001b[0;31mTypeError\u001b[0m: 'tuple' object does not support item assignment"
     ]
    }
   ],
   "source": [
    "my_tuple[0] = \"Supreet\""
   ]
  },
  {
   "cell_type": "code",
   "execution_count": 44,
   "id": "7222e6bb",
   "metadata": {},
   "outputs": [],
   "source": [
    "my_tuple = (\"Hello\", \"Hi\")"
   ]
  },
  {
   "cell_type": "code",
   "execution_count": 45,
   "id": "62f379b5",
   "metadata": {},
   "outputs": [
    {
     "name": "stdout",
     "output_type": "stream",
     "text": [
      "('Hello', 'Hi')\n"
     ]
    }
   ],
   "source": [
    "print(my_tuple)"
   ]
  },
  {
   "cell_type": "markdown",
   "id": "d43df15f",
   "metadata": {},
   "source": [
    "#### ^ The whole tuple can get replaced, but an element of a tuple cannot be replaced, i.e. a tuple is immutable.\n",
    "- They are used in programs/applications where the definition of items is required only once. And you can only replace it BUT can't perform item operations."
   ]
  },
  {
   "cell_type": "code",
   "execution_count": 47,
   "id": "87cfcbce",
   "metadata": {},
   "outputs": [
    {
     "data": {
      "text/plain": [
       "1"
      ]
     },
     "execution_count": 47,
     "metadata": {},
     "output_type": "execute_result"
    }
   ],
   "source": [
    "## Inbuilt functions\n",
    "my_tuple.count(\"Hi\")"
   ]
  },
  {
   "cell_type": "code",
   "execution_count": 48,
   "id": "7995ae64",
   "metadata": {},
   "outputs": [
    {
     "data": {
      "text/plain": [
       "0"
      ]
     },
     "execution_count": 48,
     "metadata": {},
     "output_type": "execute_result"
    }
   ],
   "source": [
    "my_tuple.count(\"Mahak\")"
   ]
  },
  {
   "cell_type": "code",
   "execution_count": 49,
   "id": "727f53f4",
   "metadata": {},
   "outputs": [
    {
     "data": {
      "text/plain": [
       "1"
      ]
     },
     "execution_count": 49,
     "metadata": {},
     "output_type": "execute_result"
    }
   ],
   "source": [
    "my_tuple.index(\"Hi\")"
   ]
  },
  {
   "cell_type": "code",
   "execution_count": 50,
   "id": "ce110cca",
   "metadata": {},
   "outputs": [
    {
     "ename": "ValueError",
     "evalue": "tuple.index(x): x not in tuple",
     "output_type": "error",
     "traceback": [
      "\u001b[0;31m---------------------------------------------------------------------------\u001b[0m",
      "\u001b[0;31mValueError\u001b[0m                                Traceback (most recent call last)",
      "Input \u001b[0;32mIn [50]\u001b[0m, in \u001b[0;36m<cell line: 1>\u001b[0;34m()\u001b[0m\n\u001b[0;32m----> 1\u001b[0m \u001b[43mmy_tuple\u001b[49m\u001b[38;5;241;43m.\u001b[39;49m\u001b[43mindex\u001b[49m\u001b[43m(\u001b[49m\u001b[38;5;124;43m\"\u001b[39;49m\u001b[38;5;124;43mMahak\u001b[39;49m\u001b[38;5;124;43m\"\u001b[39;49m\u001b[43m)\u001b[49m\n",
      "\u001b[0;31mValueError\u001b[0m: tuple.index(x): x not in tuple"
     ]
    }
   ],
   "source": [
    "my_tuple.index(\"Mahak\")"
   ]
  }
 ],
 "metadata": {
  "kernelspec": {
   "display_name": "Python 3 (ipykernel)",
   "language": "python",
   "name": "python3"
  },
  "language_info": {
   "codemirror_mode": {
    "name": "ipython",
    "version": 3
   },
   "file_extension": ".py",
   "mimetype": "text/x-python",
   "name": "python",
   "nbconvert_exporter": "python",
   "pygments_lexer": "ipython3",
   "version": "3.9.12"
  }
 },
 "nbformat": 4,
 "nbformat_minor": 5
}
