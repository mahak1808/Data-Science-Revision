{
 "cells": [
  {
   "cell_type": "markdown",
   "id": "a6f3e56a",
   "metadata": {},
   "source": [
    "# Numpy\n",
    "- Numpy is a general purpose array-processing package.\n",
    "- It provides a high-performance multidimensional array object, and tools for working with these arrays.\n",
    "- It is the fundamental package for scientific computing with python.\n",
    "- Numpy has C and C++ bindings, so using it can increase the speed of operations being performed.\n",
    "\n",
    "## What is an array ?\n",
    "- An array is a data structure that stores values of same data type.\n",
    "- In python, this is the main difference between arrays and lists.\n",
    "- While Python lists can contain values corresponding to different data types, Arrays in python can only contain values corresponding to same data type."
   ]
  },
  {
   "cell_type": "code",
   "execution_count": 1,
   "id": "84847a91",
   "metadata": {},
   "outputs": [],
   "source": [
    "# initially lets import numpy as an alias 'np'\n",
    "import numpy as np"
   ]
  },
  {
   "cell_type": "code",
   "execution_count": 2,
   "id": "a564d282",
   "metadata": {},
   "outputs": [],
   "source": [
    "my_list = [1,2,3,4,5]\n",
    "\n",
    "arr = np.array(my_list)"
   ]
  },
  {
   "cell_type": "code",
   "execution_count": 3,
   "id": "9dffc3e2",
   "metadata": {},
   "outputs": [
    {
     "data": {
      "text/plain": [
       "numpy.ndarray"
      ]
     },
     "execution_count": 3,
     "metadata": {},
     "output_type": "execute_result"
    }
   ],
   "source": [
    "type(arr)"
   ]
  },
  {
   "cell_type": "code",
   "execution_count": 4,
   "id": "3509e5d7",
   "metadata": {},
   "outputs": [
    {
     "data": {
      "text/plain": [
       "list"
      ]
     },
     "execution_count": 4,
     "metadata": {},
     "output_type": "execute_result"
    }
   ],
   "source": [
    "type(my_list)"
   ]
  },
  {
   "cell_type": "code",
   "execution_count": 5,
   "id": "9481cb44",
   "metadata": {},
   "outputs": [
    {
     "name": "stdout",
     "output_type": "stream",
     "text": [
      "[1 2 3 4 5]\n"
     ]
    }
   ],
   "source": [
    "print(arr)"
   ]
  },
  {
   "cell_type": "code",
   "execution_count": 6,
   "id": "ee8d9d9c",
   "metadata": {},
   "outputs": [
    {
     "data": {
      "text/plain": [
       "(5,)"
      ]
     },
     "execution_count": 6,
     "metadata": {},
     "output_type": "execute_result"
    }
   ],
   "source": [
    "arr.shape # When it's a 1-D array, it only displays the no. of elements"
   ]
  },
  {
   "cell_type": "code",
   "execution_count": 7,
   "id": "99c10546",
   "metadata": {},
   "outputs": [
    {
     "data": {
      "text/plain": [
       "array([1, 2, 3, 4, 5])"
      ]
     },
     "execution_count": 7,
     "metadata": {},
     "output_type": "execute_result"
    }
   ],
   "source": [
    "arr # It's a 1-D array; one bracket opening-closing"
   ]
  },
  {
   "cell_type": "code",
   "execution_count": 8,
   "id": "29632e8e",
   "metadata": {},
   "outputs": [],
   "source": [
    "# Multidimensional array\n",
    "lst1 = [1,2,3,4,5]\n",
    "lst2 = [5,6,7,8,9]\n",
    "lst3 = [9,7,6,8,9]\n",
    "\n",
    "arr = np.array([lst1,lst2,lst3])"
   ]
  },
  {
   "cell_type": "code",
   "execution_count": 9,
   "id": "3781230e",
   "metadata": {},
   "outputs": [
    {
     "data": {
      "text/plain": [
       "array([[1, 2, 3, 4, 5],\n",
       "       [5, 6, 7, 8, 9],\n",
       "       [9, 7, 6, 8, 9]])"
      ]
     },
     "execution_count": 9,
     "metadata": {},
     "output_type": "execute_result"
    }
   ],
   "source": [
    "arr # 2 brackets -> 2-D array"
   ]
  },
  {
   "cell_type": "code",
   "execution_count": 10,
   "id": "43514a08",
   "metadata": {},
   "outputs": [
    {
     "data": {
      "text/plain": [
       "(3, 5)"
      ]
     },
     "execution_count": 10,
     "metadata": {},
     "output_type": "execute_result"
    }
   ],
   "source": [
    "arr.shape"
   ]
  },
  {
   "cell_type": "code",
   "execution_count": 11,
   "id": "5448de31",
   "metadata": {},
   "outputs": [
    {
     "data": {
      "text/plain": [
       "array([[1, 2, 3],\n",
       "       [4, 5, 5],\n",
       "       [6, 7, 8],\n",
       "       [9, 9, 7],\n",
       "       [6, 8, 9]])"
      ]
     },
     "execution_count": 11,
     "metadata": {},
     "output_type": "execute_result"
    }
   ],
   "source": [
    "# Converting it into a 2-D array\n",
    "arr.reshape(5,3)  # No. of elements always remain constant"
   ]
  },
  {
   "cell_type": "code",
   "execution_count": 12,
   "id": "50457186",
   "metadata": {},
   "outputs": [
    {
     "data": {
      "text/plain": [
       "(3, 5)"
      ]
     },
     "execution_count": 12,
     "metadata": {},
     "output_type": "execute_result"
    }
   ],
   "source": [
    "arr.shape"
   ]
  },
  {
   "cell_type": "markdown",
   "id": "3099c0c5",
   "metadata": {},
   "source": [
    "#### We use arrays extensively in Data Science because array operations are very fast and when fed to the ML model, training happens faster. "
   ]
  },
  {
   "cell_type": "markdown",
   "id": "e751f228",
   "metadata": {},
   "source": [
    "#### Whenever you learn a data structure, always find out how you can retrieve its data first."
   ]
  },
  {
   "cell_type": "markdown",
   "id": "60fec425",
   "metadata": {},
   "source": [
    "## Indexing"
   ]
  },
  {
   "cell_type": "code",
   "execution_count": 13,
   "id": "e68a8d03",
   "metadata": {},
   "outputs": [],
   "source": [
    "arr = np.array([1,2,3,4,5,6,7,8,9])"
   ]
  },
  {
   "cell_type": "code",
   "execution_count": 14,
   "id": "8150d98d",
   "metadata": {},
   "outputs": [
    {
     "data": {
      "text/plain": [
       "4"
      ]
     },
     "execution_count": 14,
     "metadata": {},
     "output_type": "execute_result"
    }
   ],
   "source": [
    "arr[3]"
   ]
  },
  {
   "cell_type": "code",
   "execution_count": 15,
   "id": "b55889f5",
   "metadata": {},
   "outputs": [],
   "source": [
    "# Multidimensional array\n",
    "lst1 = [1,2,3,4,5]\n",
    "lst2 = [5,6,7,8,9]\n",
    "lst3 = [9,7,6,8,9]\n",
    "\n",
    "arr = np.array([lst1,lst2,lst3])"
   ]
  },
  {
   "cell_type": "code",
   "execution_count": 16,
   "id": "249eecaa",
   "metadata": {},
   "outputs": [
    {
     "data": {
      "text/plain": [
       "array([[1, 2, 3, 4, 5],\n",
       "       [5, 6, 7, 8, 9],\n",
       "       [9, 7, 6, 8, 9]])"
      ]
     },
     "execution_count": 16,
     "metadata": {},
     "output_type": "execute_result"
    }
   ],
   "source": [
    "arr"
   ]
  },
  {
   "cell_type": "code",
   "execution_count": 17,
   "id": "f41e0334",
   "metadata": {},
   "outputs": [
    {
     "data": {
      "text/plain": [
       "7"
      ]
     },
     "execution_count": 17,
     "metadata": {},
     "output_type": "execute_result"
    }
   ],
   "source": [
    "arr[1][2]"
   ]
  },
  {
   "cell_type": "code",
   "execution_count": 18,
   "id": "f13a447a",
   "metadata": {},
   "outputs": [
    {
     "data": {
      "text/plain": [
       "7"
      ]
     },
     "execution_count": 18,
     "metadata": {},
     "output_type": "execute_result"
    }
   ],
   "source": [
    "arr[1,2]"
   ]
  },
  {
   "cell_type": "code",
   "execution_count": 19,
   "id": "36f7b569",
   "metadata": {},
   "outputs": [
    {
     "data": {
      "text/plain": [
       "array([7, 8, 9])"
      ]
     },
     "execution_count": 19,
     "metadata": {},
     "output_type": "execute_result"
    }
   ],
   "source": [
    "arr[1,2:]"
   ]
  },
  {
   "cell_type": "code",
   "execution_count": 20,
   "id": "e7535fd8",
   "metadata": {},
   "outputs": [
    {
     "data": {
      "text/plain": [
       "array([3])"
      ]
     },
     "execution_count": 20,
     "metadata": {},
     "output_type": "execute_result"
    }
   ],
   "source": [
    "arr[0:1,2]"
   ]
  },
  {
   "cell_type": "code",
   "execution_count": 21,
   "id": "d687fdc3",
   "metadata": {},
   "outputs": [
    {
     "data": {
      "text/plain": [
       "array([3, 7])"
      ]
     },
     "execution_count": 21,
     "metadata": {},
     "output_type": "execute_result"
    }
   ],
   "source": [
    "arr[0:2,2]"
   ]
  },
  {
   "cell_type": "code",
   "execution_count": 22,
   "id": "997f49a3",
   "metadata": {},
   "outputs": [
    {
     "data": {
      "text/plain": [
       "array([[7, 8],\n",
       "       [6, 8]])"
      ]
     },
     "execution_count": 22,
     "metadata": {},
     "output_type": "execute_result"
    }
   ],
   "source": [
    "arr[1:,2:4]"
   ]
  },
  {
   "cell_type": "code",
   "execution_count": 25,
   "id": "f4cde824",
   "metadata": {},
   "outputs": [],
   "source": [
    "arr = np.arange(0,10,2)"
   ]
  },
  {
   "cell_type": "code",
   "execution_count": 26,
   "id": "9330359c",
   "metadata": {},
   "outputs": [
    {
     "data": {
      "text/plain": [
       "array([0, 2, 4, 6, 8])"
      ]
     },
     "execution_count": 26,
     "metadata": {},
     "output_type": "execute_result"
    }
   ],
   "source": [
    "arr"
   ]
  },
  {
   "cell_type": "code",
   "execution_count": 28,
   "id": "f2d6d7f4",
   "metadata": {},
   "outputs": [
    {
     "data": {
      "text/plain": [
       "array([0.  , 0.25, 0.5 , 0.75, 1.  ])"
      ]
     },
     "execution_count": 28,
     "metadata": {},
     "output_type": "execute_result"
    }
   ],
   "source": [
    "np.linspace(0,1,5)"
   ]
  },
  {
   "cell_type": "code",
   "execution_count": 33,
   "id": "61d6b8d6",
   "metadata": {},
   "outputs": [
    {
     "data": {
      "text/plain": [
       "array([1, 2, 3, 4, 5, 6, 7, 8, 9])"
      ]
     },
     "execution_count": 33,
     "metadata": {},
     "output_type": "execute_result"
    }
   ],
   "source": [
    "# copy function and broadcasting\n",
    "arr = np.array([1,2,3,4,5,6,7,8,9])\n",
    "arr"
   ]
  },
  {
   "cell_type": "code",
   "execution_count": 36,
   "id": "22d76f63",
   "metadata": {},
   "outputs": [
    {
     "data": {
      "text/plain": [
       "array([  1,   2,   3, 100, 100, 100, 100, 100, 100])"
      ]
     },
     "execution_count": 36,
     "metadata": {},
     "output_type": "execute_result"
    }
   ],
   "source": [
    "arr[3:] = 100\n",
    "arr"
   ]
  },
  {
   "cell_type": "code",
   "execution_count": 37,
   "id": "8b060266",
   "metadata": {},
   "outputs": [],
   "source": [
    "arr1 = arr"
   ]
  },
  {
   "cell_type": "code",
   "execution_count": 38,
   "id": "67ce6530",
   "metadata": {},
   "outputs": [
    {
     "data": {
      "text/plain": [
       "array([  1,   2,   3, 500, 500, 500, 500, 500, 500])"
      ]
     },
     "execution_count": 38,
     "metadata": {},
     "output_type": "execute_result"
    }
   ],
   "source": [
    "arr1[3:] = 500\n",
    "arr1"
   ]
  },
  {
   "cell_type": "code",
   "execution_count": 39,
   "id": "f406ce88",
   "metadata": {},
   "outputs": [
    {
     "data": {
      "text/plain": [
       "array([  1,   2,   3, 500, 500, 500, 500, 500, 500])"
      ]
     },
     "execution_count": 39,
     "metadata": {},
     "output_type": "execute_result"
    }
   ],
   "source": [
    "arr"
   ]
  },
  {
   "cell_type": "markdown",
   "id": "14abd722",
   "metadata": {},
   "source": [
    "### Here, since we copied arr to arr1, and made changes in arr1, they got changed/reflected in arr too. This is because array is a REFERENCE TYPE, not a value type.\n",
    "\n",
    "### To prevent this, we have the copy( ) . It creates another memory space for the array, rather than sharing it. "
   ]
  },
  {
   "cell_type": "code",
   "execution_count": 40,
   "id": "78f55e5d",
   "metadata": {},
   "outputs": [],
   "source": [
    "arr1 = arr.copy()"
   ]
  },
  {
   "cell_type": "code",
   "execution_count": 41,
   "id": "29881496",
   "metadata": {},
   "outputs": [
    {
     "name": "stdout",
     "output_type": "stream",
     "text": [
      "[  1   2   3 500 500 500 500 500 500]\n",
      "[   1    2    3 1000 1000 1000 1000 1000 1000]\n"
     ]
    }
   ],
   "source": [
    "print(arr)\n",
    "arr1[3:] = 1000\n",
    "print(arr1)"
   ]
  },
  {
   "cell_type": "code",
   "execution_count": 42,
   "id": "42ba4545",
   "metadata": {},
   "outputs": [
    {
     "data": {
      "text/plain": [
       "array([  1,   2,   3, 500, 500, 500, 500, 500, 500])"
      ]
     },
     "execution_count": 42,
     "metadata": {},
     "output_type": "execute_result"
    }
   ],
   "source": [
    "arr"
   ]
  },
  {
   "cell_type": "markdown",
   "id": "df2924c3",
   "metadata": {},
   "source": [
    "#### Some very useful conditions in Exploratory Data Analysis "
   ]
  },
  {
   "cell_type": "code",
   "execution_count": 43,
   "id": "66fc19db",
   "metadata": {},
   "outputs": [
    {
     "name": "stdout",
     "output_type": "stream",
     "text": [
      "[  1   2   3 500 500 500 500 500 500]\n"
     ]
    },
    {
     "data": {
      "text/plain": [
       "array([ True, False, False, False, False, False, False, False, False])"
      ]
     },
     "execution_count": 43,
     "metadata": {},
     "output_type": "execute_result"
    }
   ],
   "source": [
    "val = 2\n",
    "print(arr)\n",
    "arr<2"
   ]
  },
  {
   "cell_type": "code",
   "execution_count": 44,
   "id": "aa97a065",
   "metadata": {},
   "outputs": [
    {
     "data": {
      "text/plain": [
       "array([   2,    4,    6, 1000, 1000, 1000, 1000, 1000, 1000])"
      ]
     },
     "execution_count": 44,
     "metadata": {},
     "output_type": "execute_result"
    }
   ],
   "source": [
    "arr*2"
   ]
  },
  {
   "cell_type": "code",
   "execution_count": 45,
   "id": "9260f4cb",
   "metadata": {},
   "outputs": [
    {
     "data": {
      "text/plain": [
       "array([  0.5,   1. ,   1.5, 250. , 250. , 250. , 250. , 250. , 250. ])"
      ]
     },
     "execution_count": 45,
     "metadata": {},
     "output_type": "execute_result"
    }
   ],
   "source": [
    "arr/2"
   ]
  },
  {
   "cell_type": "code",
   "execution_count": 46,
   "id": "a0562404",
   "metadata": {},
   "outputs": [
    {
     "data": {
      "text/plain": [
       "array([1, 0, 1, 0, 0, 0, 0, 0, 0])"
      ]
     },
     "execution_count": 46,
     "metadata": {},
     "output_type": "execute_result"
    }
   ],
   "source": [
    "arr%2"
   ]
  },
  {
   "cell_type": "code",
   "execution_count": 47,
   "id": "795e8670",
   "metadata": {},
   "outputs": [
    {
     "data": {
      "text/plain": [
       "array([1])"
      ]
     },
     "execution_count": 47,
     "metadata": {},
     "output_type": "execute_result"
    }
   ],
   "source": [
    "arr[arr<2]"
   ]
  },
  {
   "cell_type": "code",
   "execution_count": 48,
   "id": "900a6314",
   "metadata": {},
   "outputs": [
    {
     "data": {
      "text/plain": [
       "array([1, 2, 3])"
      ]
     },
     "execution_count": 48,
     "metadata": {},
     "output_type": "execute_result"
    }
   ],
   "source": [
    "arr[arr<300]"
   ]
  },
  {
   "cell_type": "code",
   "execution_count": 49,
   "id": "c1d29b27",
   "metadata": {},
   "outputs": [
    {
     "data": {
      "text/plain": [
       "array([[0, 1, 2, 3, 4],\n",
       "       [5, 6, 7, 8, 9]])"
      ]
     },
     "execution_count": 49,
     "metadata": {},
     "output_type": "execute_result"
    }
   ],
   "source": [
    "# Create arrays and reshape\n",
    "np.arange(0,10).reshape(2,5)"
   ]
  },
  {
   "cell_type": "code",
   "execution_count": 50,
   "id": "be7827d4",
   "metadata": {},
   "outputs": [],
   "source": [
    "arr1 = np.arange(0,10).reshape(2,5)\n",
    "arr2 = np.arange(0,10).reshape(2,5)"
   ]
  },
  {
   "cell_type": "code",
   "execution_count": 52,
   "id": "b6904666",
   "metadata": {},
   "outputs": [
    {
     "name": "stdout",
     "output_type": "stream",
     "text": [
      "[[0 1 2 3 4]\n",
      " [5 6 7 8 9]]\n",
      "[[0 1 2 3 4]\n",
      " [5 6 7 8 9]]\n"
     ]
    }
   ],
   "source": [
    "print(arr1)\n",
    "print(arr2)"
   ]
  },
  {
   "cell_type": "code",
   "execution_count": 51,
   "id": "b4bc9ba0",
   "metadata": {},
   "outputs": [
    {
     "data": {
      "text/plain": [
       "array([[ 0,  1,  4,  9, 16],\n",
       "       [25, 36, 49, 64, 81]])"
      ]
     },
     "execution_count": 51,
     "metadata": {},
     "output_type": "execute_result"
    }
   ],
   "source": [
    "arr1*arr2"
   ]
  },
  {
   "cell_type": "code",
   "execution_count": 55,
   "id": "377a5451",
   "metadata": {},
   "outputs": [],
   "source": [
    "arr2 = arr2.reshape(5,2)"
   ]
  },
  {
   "cell_type": "code",
   "execution_count": 56,
   "id": "b902c325",
   "metadata": {},
   "outputs": [
    {
     "data": {
      "text/plain": [
       "array([[0, 1],\n",
       "       [2, 3],\n",
       "       [4, 5],\n",
       "       [6, 7],\n",
       "       [8, 9]])"
      ]
     },
     "execution_count": 56,
     "metadata": {},
     "output_type": "execute_result"
    }
   ],
   "source": [
    "arr2"
   ]
  },
  {
   "cell_type": "code",
   "execution_count": 57,
   "id": "35a621bd",
   "metadata": {},
   "outputs": [
    {
     "ename": "ValueError",
     "evalue": "operands could not be broadcast together with shapes (2,5) (5,2) ",
     "output_type": "error",
     "traceback": [
      "\u001b[0;31m---------------------------------------------------------------------------\u001b[0m",
      "\u001b[0;31mValueError\u001b[0m                                Traceback (most recent call last)",
      "Input \u001b[0;32mIn [57]\u001b[0m, in \u001b[0;36m<cell line: 1>\u001b[0;34m()\u001b[0m\n\u001b[0;32m----> 1\u001b[0m \u001b[43marr1\u001b[49m\u001b[38;5;241;43m*\u001b[39;49m\u001b[43marr2\u001b[49m\n",
      "\u001b[0;31mValueError\u001b[0m: operands could not be broadcast together with shapes (2,5) (5,2) "
     ]
    }
   ],
   "source": [
    "arr1*arr2"
   ]
  },
  {
   "cell_type": "markdown",
   "id": "36b396dc",
   "metadata": {},
   "source": [
    "So, the dimensions of array aren't multiplied as in matrix, but similar to addition and subtraction"
   ]
  },
  {
   "cell_type": "markdown",
   "id": "0f683d4c",
   "metadata": {},
   "source": [
    "### More In-built functions"
   ]
  },
  {
   "cell_type": "code",
   "execution_count": 58,
   "id": "cd2915b4",
   "metadata": {},
   "outputs": [
    {
     "data": {
      "text/plain": [
       "array([1., 1., 1., 1., 1.])"
      ]
     },
     "execution_count": 58,
     "metadata": {},
     "output_type": "execute_result"
    }
   ],
   "source": [
    "np.ones(5)"
   ]
  },
  {
   "cell_type": "code",
   "execution_count": 59,
   "id": "b62c5b20",
   "metadata": {},
   "outputs": [
    {
     "data": {
      "text/plain": [
       "array([1, 1, 1, 1, 1])"
      ]
     },
     "execution_count": 59,
     "metadata": {},
     "output_type": "execute_result"
    }
   ],
   "source": [
    "np.ones(5, dtype = int)"
   ]
  },
  {
   "cell_type": "code",
   "execution_count": 61,
   "id": "93703d67",
   "metadata": {},
   "outputs": [
    {
     "data": {
      "text/plain": [
       "array([[1., 1., 1., 1., 1.],\n",
       "       [1., 1., 1., 1., 1.]])"
      ]
     },
     "execution_count": 61,
     "metadata": {},
     "output_type": "execute_result"
    }
   ],
   "source": [
    "np.ones((2,5), dtype = float)"
   ]
  },
  {
   "cell_type": "code",
   "execution_count": 62,
   "id": "5ecf52b4",
   "metadata": {},
   "outputs": [
    {
     "data": {
      "text/plain": [
       "array([[0.6681021 , 0.79122262],\n",
       "       [0.7792559 , 0.95575889],\n",
       "       [0.87262307, 0.68721512]])"
      ]
     },
     "execution_count": 62,
     "metadata": {},
     "output_type": "execute_result"
    }
   ],
   "source": [
    "## Random distribution -> Gives values greater than 0 and less than 1\n",
    "np.random.rand(3,2)"
   ]
  },
  {
   "cell_type": "code",
   "execution_count": 64,
   "id": "d1185714",
   "metadata": {},
   "outputs": [],
   "source": [
    "## randn -> Based on standard normal distribution\n",
    "arr_ex = np.random.randn(3,3)"
   ]
  },
  {
   "cell_type": "code",
   "execution_count": 65,
   "id": "079b6dbf",
   "metadata": {},
   "outputs": [
    {
     "data": {
      "text/plain": [
       "array([[ 1.35833565, -0.54151037, -0.60268506],\n",
       "       [-0.1603513 ,  0.50386078, -0.23609209],\n",
       "       [-0.75671996,  0.12544798, -0.01939303]])"
      ]
     },
     "execution_count": 65,
     "metadata": {},
     "output_type": "execute_result"
    }
   ],
   "source": [
    "arr_ex"
   ]
  },
  {
   "cell_type": "code",
   "execution_count": 67,
   "id": "f17c9ce2",
   "metadata": {},
   "outputs": [],
   "source": [
    "import seaborn as sns\n",
    "import pandas as pd"
   ]
  },
  {
   "cell_type": "code",
   "execution_count": 69,
   "id": "87719915",
   "metadata": {},
   "outputs": [
    {
     "name": "stderr",
     "output_type": "stream",
     "text": [
      "/Users/mahakkaurchhabra/opt/anaconda3/lib/python3.9/site-packages/seaborn/distributions.py:2619: FutureWarning: `distplot` is a deprecated function and will be removed in a future version. Please adapt your code to use either `displot` (a figure-level function with similar flexibility) or `histplot` (an axes-level function for histograms).\n",
      "  warnings.warn(msg, FutureWarning)\n"
     ]
    },
    {
     "data": {
      "text/plain": [
       "<AxesSubplot:ylabel='Density'>"
      ]
     },
     "execution_count": 69,
     "metadata": {},
     "output_type": "execute_result"
    },
    {
     "data": {
      "image/png": "[encoded data removed]",
      "text/plain": [
       "<Figure size 432x288 with 1 Axes>"
      ]
     },
     "metadata": {
      "needs_background": "light"
     },
     "output_type": "display_data"
    }
   ],
   "source": [
    "sns.distplot(pd.DataFrame(arr_ex.reshape(9,1)))"
   ]
  },
  {
   "cell_type": "markdown",
   "id": "f9302ee9",
   "metadata": {},
   "source": [
    "Here, the data arr_ex has standard normal distribution points, and hence it forms a bell curve, i.e., gaussian distribution's property."
   ]
  },
  {
   "cell_type": "code",
   "execution_count": 70,
   "id": "52e38917",
   "metadata": {},
   "outputs": [
    {
     "data": {
      "text/plain": [
       "array([[28, 11],\n",
       "       [13, 96],\n",
       "       [87, 18],\n",
       "       [50, 18]])"
      ]
     },
     "execution_count": 70,
     "metadata": {},
     "output_type": "execute_result"
    }
   ],
   "source": [
    "np.random.randint(0,100,8).reshape(4,2)"
   ]
  },
  {
   "cell_type": "code",
   "execution_count": 71,
   "id": "0c8059ec",
   "metadata": {},
   "outputs": [
    {
     "data": {
      "text/plain": [
       "array([0.76532951, 0.13659726, 0.10317087, 0.75334569, 0.03978864])"
      ]
     },
     "execution_count": 71,
     "metadata": {},
     "output_type": "execute_result"
    }
   ],
   "source": [
    "np.random.random_sample(5)"
   ]
  },
  {
   "cell_type": "code",
   "execution_count": null,
   "id": "23dd0531",
   "metadata": {},
   "outputs": [],
   "source": []
  }
 ],
 "metadata": {
  "kernelspec": {
   "display_name": "Python 3 (ipykernel)",
   "language": "python",
   "name": "python3"
  },
  "language_info": {
   "codemirror_mode": {
    "name": "ipython",
    "version": 3
   },
   "file_extension": ".py",
   "mimetype": "text/x-python",
   "name": "python",
   "nbconvert_exporter": "python",
   "pygments_lexer": "ipython3",
   "version": "3.9.12"
  }
 },
 "nbformat": 4,
 "nbformat_minor": 5
}
