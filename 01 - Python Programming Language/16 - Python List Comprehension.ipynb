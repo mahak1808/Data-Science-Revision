{
 "cells": [
  {
   "cell_type": "markdown",
   "id": "50817a3d",
   "metadata": {},
   "source": [
    "# List comprehension\n",
    "- List comprehension provides a concise way to create lists.\n",
    "- It consists of brackets containing an expression followed by a 'for' clause, then zero or more 'for' or 'if' clauses.\n",
    "- The expressions can be anything, meaning you can put in all kinds of objects in lists.\n",
    "\n",
    "Usually, if we wanna build lists, we use the append( ) for it."
   ]
  },
  {
   "cell_type": "code",
   "execution_count": 1,
   "id": "b4a71e89",
   "metadata": {},
   "outputs": [],
   "source": [
    "lst1 = []\n",
    "\n",
    "def lst_square(lst):\n",
    "    for i in lst:\n",
    "        lst1.append(i*i)\n",
    "    return lst1"
   ]
  },
  {
   "cell_type": "code",
   "execution_count": 2,
   "id": "3ef502c8",
   "metadata": {},
   "outputs": [
    {
     "data": {
      "text/plain": [
       "[1, 4, 9, 16, 25, 36, 49, 64, 81]"
      ]
     },
     "execution_count": 2,
     "metadata": {},
     "output_type": "execute_result"
    }
   ],
   "source": [
    "lst_square([1,2,3,4,5,6,7,8,9])"
   ]
  },
  {
   "cell_type": "markdown",
   "id": "580196dd",
   "metadata": {},
   "source": [
    "Instead of writing these 4-5 lines, we can create a list using a single line of code."
   ]
  },
  {
   "cell_type": "code",
   "execution_count": 5,
   "id": "bb9fedf1",
   "metadata": {},
   "outputs": [],
   "source": [
    "# [what it has to return 'for' i in lst]\n",
    "lst = [1,2,3,4,5,6,7,8,9]\n",
    "list1 = [i*i for i in lst]"
   ]
  },
  {
   "cell_type": "code",
   "execution_count": 6,
   "id": "e4e1d4a1",
   "metadata": {},
   "outputs": [
    {
     "data": {
      "text/plain": [
       "[1, 4, 9, 16, 25, 36, 49, 64, 81]"
      ]
     },
     "execution_count": 6,
     "metadata": {},
     "output_type": "execute_result"
    }
   ],
   "source": [
    "list1"
   ]
  },
  {
   "cell_type": "code",
   "execution_count": 8,
   "id": "fcbdfa9c",
   "metadata": {},
   "outputs": [
    {
     "data": {
      "text/plain": [
       "[4, 16, 36, 64]"
      ]
     },
     "execution_count": 8,
     "metadata": {},
     "output_type": "execute_result"
    }
   ],
   "source": [
    "# Square of only even numbers\n",
    "[i*i for i in lst if i%2==0]"
   ]
  }
 ],
 "metadata": {
  "kernelspec": {
   "display_name": "Python 3 (ipykernel)",
   "language": "python",
   "name": "python3"
  },
  "language_info": {
   "codemirror_mode": {
    "name": "ipython",
    "version": 3
   },
   "file_extension": ".py",
   "mimetype": "text/x-python",
   "name": "python",
   "nbconvert_exporter": "python",
   "pygments_lexer": "ipython3",
   "version": "3.9.12"
  }
 },
 "nbformat": 4,
 "nbformat_minor": 5
}
